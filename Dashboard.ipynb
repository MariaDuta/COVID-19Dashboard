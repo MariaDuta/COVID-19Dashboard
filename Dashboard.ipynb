{
 "cells": [
  {
   "cell_type": "markdown",
   "metadata": {},
   "source": [
    "# Covid-19 Dashboard"
   ]
  },
  {
   "cell_type": "markdown",
   "metadata": {},
   "source": [
    "This simple dashboard is based on Public Health England (PHE) data, which indicates the distribution of COVID-19 cases for males and females based on their age range. "
   ]
  },
  {
   "cell_type": "code",
   "execution_count": 1,
   "metadata": {},
   "outputs": [],
   "source": [
    "# This section's code is used by all the following sections\n",
    "import ipywidgets as wdg\n",
    "import pandas as pd\n",
    "import numpy as np\n",
    "import matplotlib.pyplot as plt\n",
    "import json\n",
    "\n",
    "from uk_covid19 import Cov19API"
   ]
  },
  {
   "cell_type": "code",
   "execution_count": 2,
   "metadata": {},
   "outputs": [],
   "source": [
    "# It includes graphs\n",
    "%matplotlib inline\n",
    "# Make figures larger\n",
    "plt.rcParams['figure.dpi'] = 100"
   ]
  },
  {
   "cell_type": "code",
   "execution_count": 3,
   "metadata": {},
   "outputs": [],
   "source": [
    "#It loads the JSON file and stores the raw data\n",
    "data = {}\n",
    "with open(\"agedistribution.json\", \"rt\") as INFILE:\n",
    "    data=json.load(INFILE)"
   ]
  },
  {
   "cell_type": "code",
   "execution_count": 4,
   "metadata": {},
   "outputs": [],
   "source": [
    "# It converts the JSON file to data frame\n",
    "def wrangle_data(rawdata):\n",
    "    \n",
    "    datadic=rawdata['data'][0]\n",
    "    \n",
    "    males=datadic['males']\n",
    "    females=datadic['females']\n",
    "    \n",
    "    ageranges = [x['age'] for x in males]\n",
    "    \n",
    "    def min_age(agerange):\n",
    "        agerange=agerange.replace('+','')\n",
    "        start=agerange.split('_')[0]\n",
    "        return int(start)\n",
    "    \n",
    "    ageranges.sort(key=min_age)\n",
    "    age_df=pd.DataFrame(index=ageranges, columns=['males', 'females', 'total'])\n",
    "    \n",
    "    for entry in males:\n",
    "        ageband=entry['age']\n",
    "        age_df.loc[ageband,'males']=entry['value']\n",
    "        \n",
    "    for entry in females:\n",
    "        ageband=entry['age']\n",
    "        age_df.loc[ageband, 'females']=entry['value']\n",
    "        \n",
    "    age_df['total']=age_df['males']+age_df['females']\n",
    "    \n",
    "    return age_df\n",
    "\n",
    "age_df=wrangle_data(data)"
   ]
  },
  {
   "cell_type": "code",
   "execution_count": 5,
   "metadata": {},
   "outputs": [],
   "source": [
    "# This is accessesing the PHE API and returns raw data in the same format as data loaded from the \"canned\" JSON file.\n",
    "def access_api():\n",
    "    filters = [\n",
    "    'areaType=nation',\n",
    "    'areaName=England'\n",
    "    ]\n",
    "    \n",
    "    structure = {\n",
    "    \"males\": \"maleCases\",\n",
    "    \"females\": \"femaleCases\"\n",
    "    }\n",
    "    api = Cov19API(filters=filters, structure=structure)\n",
    "    agedistribution=api.get_json()\n",
    "    return agedistribution\n",
    "\n",
    "\n",
    "# The button callback accesses API, wrangles data, updates global variable df used for plotting.\n",
    "def api_button_callback(button):\n",
    "        apidata=access_api()\n",
    "        global age_df\n",
    "        age_df=wrangle_data(apidata)\n",
    "        refresh_graph()\n",
    "        apibutton.icon=\"check\"\n",
    "        \n",
    "# Create a button to allow users to refresh the data\n",
    "apibutton=wdg.Button(\n",
    "    description='Refresh data',\n",
    "    disabled=False,\n",
    "    button_style='info',\n",
    "    tooltip=\"'Click to download current Public Health England data'\",\n",
    "    icon='refresh'\n",
    ")\n"
   ]
  },
  {
   "cell_type": "markdown",
   "metadata": {},
   "source": [
    "## Distribution of Covid-19 cases by gender and age graph"
   ]
  },
  {
   "cell_type": "markdown",
   "metadata": {},
   "source": [
    "The following graph displays daily COVID-19 cases in England for males and females by dividing the data based on their age. In order to evaluate the latest data, please click on the 'Refresh Data' button. Therefore, an interactive control was added to select any combination of the males, females or total categories (CTRL-Click to select more than one category)."
   ]
  },
  {
   "cell_type": "code",
   "execution_count": 6,
   "metadata": {},
   "outputs": [
    {
     "data": {
      "application/vnd.jupyter.widget-view+json": {
       "model_id": "a01b8c82d48a4907afb2bab9c594e42c",
       "version_major": 2,
       "version_minor": 0
      },
      "text/plain": [
       "Button(button_style='info', description='Refresh data', icon='refresh', style=ButtonStyle(), tooltip=\"'Click t…"
      ]
     },
     "metadata": {},
     "output_type": "display_data"
    },
    {
     "data": {
      "application/vnd.jupyter.widget-view+json": {
       "model_id": "a57a9b51c09541449b11e8be0d6ff7e9",
       "version_major": 2,
       "version_minor": 0
      },
      "text/plain": [
       "SelectMultiple(description='Gender', index=(0,), options=('males', 'females', 'total'), rows=3, value=('males'…"
      ]
     },
     "metadata": {},
     "output_type": "display_data"
    },
    {
     "data": {
      "application/vnd.jupyter.widget-view+json": {
       "model_id": "2ef367550e4041c8a631bf71f2a75e49",
       "version_major": 2,
       "version_minor": 0
      },
      "text/plain": [
       "Output()"
      ]
     },
     "metadata": {},
     "output_type": "display_data"
    }
   ],
   "source": [
    "# Create a widget for the user to select columns\n",
    "agecols=wdg.SelectMultiple(\n",
    "    options=['males', 'females', 'total'],\n",
    "    value=['males'],\n",
    "    rows=3,\n",
    "    description='Gender',\n",
    "    disabled=False\n",
    ")\n",
    "\n",
    "# Create a widget for the user to select columns\n",
    "def refresh_graph():\n",
    "    current=agecols.value[0]\n",
    "    if current==agecols.options[0]:\n",
    "        other=agecols.options[1]\n",
    "    else:\n",
    "        other=agecols.options[0]\n",
    "    agecols.value=(other,) \n",
    "    agecols.value=(current,) \n",
    "    \n",
    "        \n",
    "def age_graph(graphcolumns):\n",
    "    ncols=len(graphcolumns)\n",
    "    if ncols>0:\n",
    "        age_df.plot(kind='bar', y=list(graphcolumns))\n",
    "        plt.title(\"Distribution of Covid-19 cases by gender and age\")\n",
    "        plt.xlabel(\"Age Group\")\n",
    "        plt.ylabel(\"Total Number\")\n",
    "    else:\n",
    "        print(\"Click to select data for graph\")\n",
    "        print(\"(CTRL-Click to select more than one category)\")\n",
    "        \n",
    "\n",
    "\n",
    "output=wdg.interactive_output(age_graph, {'graphcolumns': agecols})\n",
    "\n",
    "apibutton.on_click(api_button_callback)\n",
    "display(apibutton)\n",
    "display(agecols, output)\n"
   ]
  },
  {
   "cell_type": "markdown",
   "metadata": {},
   "source": [
    "**Author and Copyright Notice** Maria-Georgiana Duta (27/11/2020), *Based on UK Government [data](https://coronavirus.data.gov.uk/) published by [Public Health England](https://www.gov.uk/government/organisations/public-health-england).*"
   ]
  },
  {
   "cell_type": "code",
   "execution_count": null,
   "metadata": {},
   "outputs": [],
   "source": []
  }
 ],
 "metadata": {
  "kernelspec": {
   "display_name": "Python 3",
   "language": "python",
   "name": "python3"
  },
  "language_info": {
   "codemirror_mode": {
    "name": "ipython",
    "version": 3
   },
   "file_extension": ".py",
   "mimetype": "text/x-python",
   "name": "python",
   "nbconvert_exporter": "python",
   "pygments_lexer": "ipython3",
   "version": "3.7.6"
  }
 },
 "nbformat": 4,
 "nbformat_minor": 4
}
